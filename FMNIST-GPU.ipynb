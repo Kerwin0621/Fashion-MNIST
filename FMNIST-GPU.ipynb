{
 "cells": [
  {
   "cell_type": "code",
   "execution_count": 1,
   "id": "93ea94c3-4601-4a3c-b450-02d6734e09e3",
   "metadata": {},
   "outputs": [],
   "source": [
    "import torch # Tensor library\n",
    "from torch import nn, optim # For create linear NN and optimizer\n",
    "import torch.nn.functional as F # Activate functions \n",
    "from torchvision import datasets, transforms # Pytorch datasets, and image processing function library\n",
    "import matplotlib.pyplot as plt # Drawing library\n",
    "%matplotlib inline # Drawing on the same figure"
   ]
  },
  {
   "cell_type": "markdown",
   "id": "7418be01-c729-43af-9df6-fb7eef027c7c",
   "metadata": {},
   "source": [
    "***Download Fashion-MNIST Dataset***"
   ]
  },
  {
   "cell_type": "code",
   "execution_count": 2,
   "id": "22a9bf8c-4ee1-4d5d-a4c8-7c5fe752acf8",
   "metadata": {},
   "outputs": [],
   "source": [
    "# Normalize dataset, the gray data is in -1 and 1\n",
    "transform = transforms.Compose([transforms.ToTensor(), transforms.Normalize((0.5), (0.5))])\n",
    "\n",
    "# Training dataset\n",
    "trainset = datasets.FashionMNIST('Dataset/', download=True, train=True, transform=transform)\n",
    "trainloader = torch.utils.data.DataLoader(trainset, batch_size=64, shuffle=True)\n",
    "\n",
    "# Testing dataset\n",
    "testset = datasets.FashionMNIST('Dataset/', download=True, train=False, transform=transform)\n",
    "testloader = torch.utils.data.DataLoader(testset, batch_size=64, shuffle=True)"
   ]
  },
  {
   "cell_type": "markdown",
   "id": "df1b90ed-342b-4682-96a3-1197de03946e",
   "metadata": {},
   "source": [
    "If shuffle in testloader is False, you will fail to test the dataset by the model you trained in random"
   ]
  },
  {
   "cell_type": "markdown",
   "id": "e1dff280-c119-46ac-ad5e-b1086653ac3a",
   "metadata": {},
   "source": [
    "***Label List***"
   ]
  },
  {
   "cell_type": "code",
   "execution_count": 3,
   "id": "290fa6ba-46dc-44b3-b3ec-e1ce0c50971d",
   "metadata": {},
   "outputs": [],
   "source": [
    "labellist = ['T-shirt', 'Trouser', 'Pullover', 'Dress', 'Coat', 'Sandal', 'Shirt', 'Sneaker', 'Bag', 'Ankle Boot']"
   ]
  },
  {
   "cell_type": "markdown",
   "id": "dd0a7cae-93f5-4f7d-9f71-fa133208bd10",
   "metadata": {},
   "source": [
    "***Display the dataset***"
   ]
  },
  {
   "cell_type": "code",
   "execution_count": 4,
   "id": "37cbaadc-8b32-482b-b21d-6fea03cc41e9",
   "metadata": {},
   "outputs": [],
   "source": [
    "def img_disp(trainloader, index):\n",
    "    # Two variables: dataset and index, as the batch_size is 64, the valid interval of index is [0, 63]\n",
    "    image, label = next(iter(trainloader))\n",
    "    # iter returns an iterator for the given object; next: retrieves next item for the iterator\n",
    "    imagedemo = image[index]\n",
    "    imagedemolabel = label[index]\n",
    "    imagedemo = imagedemo.reshape(28, 28)\n",
    "    # To display the image, we need reshape the dataset as 28*28 (you can check the original shape of imagedemo)\n",
    "    plt.imshow(imagedemo)\n",
    "    print('The label of this image is:',labellist[imagedemolabel])"
   ]
  },
  {
   "cell_type": "code",
   "execution_count": 5,
   "id": "c4cc8136-fffb-4dd3-a175-18a7a2f19d04",
   "metadata": {},
   "outputs": [
    {
     "name": "stdout",
     "output_type": "stream",
     "text": [
      "The label of this image is: Shirt\n"
     ]
    },
    {
     "data": {
      "image/png": "[encoded data removed]",
      "text/plain": [
       "<Figure size 432x288 with 1 Axes>"
      ]
     },
     "metadata": {
      "needs_background": "light"
     },
     "output_type": "display_data"
    }
   ],
   "source": [
    "img_disp(trainloader, 0)"
   ]
  },
  {
   "cell_type": "markdown",
   "id": "aec96835-66f8-478c-8376-544e3e334054",
   "metadata": {},
   "source": [
    "***GPU Environment***"
   ]
  },
  {
   "cell_type": "code",
   "execution_count": 6,
   "id": "ec8038fd-1d99-44d2-9154-5ed6b1b83964",
   "metadata": {},
   "outputs": [
    {
     "name": "stdout",
     "output_type": "stream",
     "text": [
      "Mon Jul  4 01:40:31 2022       \n",
      "+-----------------------------------------------------------------------------+\n",
      "| NVIDIA-SMI 515.48.07    Driver Version: 515.48.07    CUDA Version: 11.7     |\n",
      "|-------------------------------+----------------------+----------------------+\n",
      "| GPU  Name        Persistence-M| Bus-Id        Disp.A | Volatile Uncorr. ECC |\n",
      "| Fan  Temp  Perf  Pwr:Usage/Cap|         Memory-Usage | GPU-Util  Compute M. |\n",
      "|                               |                      |               MIG M. |\n",
      "|===============================+======================+======================|\n",
      "|   0  NVIDIA GeForce ...  Off  | 00000000:01:00.0 Off |                  N/A |\n",
      "| N/A   55C    P5     7W /  N/A |      6MiB /  6144MiB |      0%      Default |\n",
      "|                               |                      |                  N/A |\n",
      "+-------------------------------+----------------------+----------------------+\n",
      "                                                                               \n",
      "+-----------------------------------------------------------------------------+\n",
      "| Processes:                                                                  |\n",
      "|  GPU   GI   CI        PID   Type   Process name                  GPU Memory |\n",
      "|        ID   ID                                                   Usage      |\n",
      "|=============================================================================|\n",
      "|    0   N/A  N/A       720      G   /usr/lib/Xorg                       4MiB |\n",
      "+-----------------------------------------------------------------------------+\n"
     ]
    }
   ],
   "source": [
    "!nvidia-smi"
   ]
  },
  {
   "cell_type": "code",
   "execution_count": 7,
   "id": "b8166c3a-6626-48c4-88ff-a28c7772c4c7",
   "metadata": {},
   "outputs": [],
   "source": [
    "# Change the device as gpu, the name can be found by nvidia-smi\n",
    "device = torch.device('cuda:0')"
   ]
  },
  {
   "cell_type": "code",
   "execution_count": 8,
   "id": "dc11cc63-1bb3-40c0-a22f-0335118967a0",
   "metadata": {},
   "outputs": [
    {
     "data": {
      "text/plain": [
       "1"
      ]
     },
     "execution_count": 8,
     "metadata": {},
     "output_type": "execute_result"
    }
   ],
   "source": [
    "# Check the number of devices have been detected\n",
    "torch.cuda.device_count()"
   ]
  },
  {
   "cell_type": "markdown",
   "id": "32570fac-4450-493c-98eb-6cfb095e9e50",
   "metadata": {},
   "source": [
    "***Neural Network***"
   ]
  },
  {
   "cell_type": "code",
   "execution_count": 9,
   "id": "585d097e-caec-48f4-8ef7-bd4afb58e70a",
   "metadata": {},
   "outputs": [],
   "source": [
    "# Simple linear neural network with dropout\n",
    "class Classifier(nn.Module):\n",
    "    def __init__(self):\n",
    "        super().__init__()\n",
    "        self.fc1 = nn.Linear(784, 256) # 28*28=784\n",
    "        self.fc2 = nn.Linear(256, 128)\n",
    "        self.fc3 = nn.Linear(128, 64)\n",
    "        self.fc4 = nn.Linear(64, 10) # 10 refers to 10 classes in this task\n",
    "        \n",
    "        self.dropout = nn.Dropout(p=0.2) # Kill 20% neure in each layer (output layer not included)\n",
    "    \n",
    "    def forward(self, x):\n",
    "        # The input tensor shoud be single column dataset, press channle, hight, width into one column\n",
    "        x = x.view(x.shape[0], -1) # View is kinda of tensor.reshape\n",
    "        x = self.dropout(F.relu(self.fc1(x))) # The activate function is ReLU()\n",
    "        x = self.dropout(F.relu(self.fc2(x)))\n",
    "        x = self.dropout(F.relu(self.fc3(x)))\n",
    "        \n",
    "        # The output layer no longer needs dropout\n",
    "        x = F.log_softmax(self.fc4(x), dim=1) # To prevent data overflow\n",
    "        x.to(device) # Save the results on gpu device\n",
    "        \n",
    "        return x"
   ]
  },
  {
   "cell_type": "markdown",
   "id": "1341359c-9ba9-4396-86b2-1577c9169fd2",
   "metadata": {},
   "source": [
    "***Training***"
   ]
  },
  {
   "cell_type": "code",
   "execution_count": 10,
   "id": "d4963638-bf17-48da-981b-95e28af8d16d",
   "metadata": {},
   "outputs": [],
   "source": [
    "def train_mnist(trainloader, testloader, criterion, optimizer, epochs):\n",
    "    # Create three lists to save the data for further visualization\n",
    "    train_losses, test_losses, acc = [], [], []\n",
    "    print('Start Training')\n",
    "    for e in range(epochs):\n",
    "        running_loss = 0\n",
    "        \n",
    "        # Iterating all the training dataset\n",
    "        for images, labels in trainloader:\n",
    "            # Save the images and labels on GPU\n",
    "            images = images.to(device)\n",
    "            labels = labels.type(torch.LongTensor) # converting the type of label to torch.LongTensor before storing the data into the GPU\n",
    "            labels = labels.to(device)\n",
    "            # Set optimizer grad as 0, otherwise is will be accumulated\n",
    "            optimizer.zero_grad()\n",
    "\n",
    "            # Interfence the images, calculate loss function, backward optimize weights, add loss\n",
    "            log_ps = model(images)\n",
    "            loss = criterion(log_ps, labels)\n",
    "            loss.backward()\n",
    "            optimizer.step()\n",
    "            running_loss += loss.item()\n",
    "        \n",
    "        # For each training to learn, we perform a test\n",
    "        else:\n",
    "            test_loss = 0\n",
    "            accuracy = 0\n",
    "            # Durining test, we close the auto-grad and backward\n",
    "            with torch.no_grad():\n",
    "                # Close dropout\n",
    "                model.eval()\n",
    "\n",
    "                for images, labels in testloader:\n",
    "                    # Save the images and labels on GPU\n",
    "                    images = images.to(device)\n",
    "                    labels = labels.type(torch.LongTensor)\n",
    "                    labels = labels.to(device)\n",
    "                    # Forward interfence, calculate loss, accuracy is calculates by testing 10,000 images\n",
    "                    log_ps = model(images)\n",
    "                    test_loss += criterion(log_ps, labels)\n",
    "                    ps = torch.exp(log_ps) # As the return resutls is the log_softmax\n",
    "                    top_p, top_class = ps.topk(1, dim=1)\n",
    "                    equals = top_class == labels.view(*top_class.shape) # equals here is to describe the highest possibility label predicted\n",
    "                    # RHS is the accuracy for a batch=64\n",
    "                    accuracy += torch.mean(equals.type(torch.FloatTensor))\n",
    "                    \n",
    "            # Recover dropout\n",
    "            model.train()\n",
    "            # Save training and testing losses in two list for visualization\n",
    "            train_losses.append(running_loss / len(trainloader))\n",
    "            test_losses.append(test_loss.cpu().data.item() / len(testloader)) # Save the loss function results in CPU, give room to calculate other numbers\n",
    "            accy = (accuracy.cpu().data.item() / len(testloader)) # Save the accuracy results in CPU, give room to calculate other numbers\n",
    "            acc.append(accy)\n",
    "            \n",
    "\n",
    "            print('Training epoch {}/{}..'.format(e+1, epochs),\n",
    "                  'Training loss: {:.3f}..'.format(running_loss/len(trainloader)),\n",
    "                  'Test loss: {:.3f}..'.format(test_loss / len(testloader)),\n",
    "                  'Accuracy: {:.3f}..'.format(accuracy / len(testloader)))\n",
    "    return train_losses, test_losses, acc "
   ]
  },
  {
   "cell_type": "markdown",
   "id": "91b680cd-09bc-4766-ba19-fb502f90639f",
   "metadata": {},
   "source": [
    "***Visualization***"
   ]
  },
  {
   "cell_type": "code",
   "execution_count": 11,
   "id": "3b215ad5-c3a5-4f3f-a023-08c1db831d29",
   "metadata": {},
   "outputs": [],
   "source": [
    "def vis_loss(train_losses, test_losses, acc):\n",
    "    plt.plot(train_losses, label='Training Loss')\n",
    "    plt.plot(test_losses, label='Validation Loss')\n",
    "    plt.plot(acc, label='Accuracy')\n",
    "    plt.legend()"
   ]
  },
  {
   "cell_type": "markdown",
   "id": "169fb8a4-77f5-4c4d-b384-930498a76ca9",
   "metadata": {},
   "source": [
    "***Test***"
   ]
  },
  {
   "cell_type": "code",
   "execution_count": 12,
   "id": "ab83c658-bb53-44a7-bdc7-4d4617bc0416",
   "metadata": {},
   "outputs": [],
   "source": [
    "def img_test(model, testloader):\n",
    "    model.eval() # you need to turn off those specific layers (dropout, Batch Normalization) during model evaluation\n",
    "    dataiter = iter(testloader)\n",
    "    images, labels = dataiter.next()\n",
    "    #images = images.to(device)\n",
    "    img = images[0]\n",
    "    img = img.reshape(28,28).cpu()\n",
    "    plt.imshow(img)\n",
    "    \n",
    "    # 1 dimensional test image\n",
    "    img = img.view(1, 784)\n",
    "    \n",
    "    # Forward interfence, predict the class of image\n",
    "    with torch.no_grad():\n",
    "        img = img.to(device)\n",
    "        output = model(img)\n",
    "    ps = torch.exp(output)\n",
    "\n",
    "    top_p, top_class = ps.topk(1, dim=1)\n",
    "    prediction = labellist[top_class]\n",
    "    probability = float(top_p)\n",
    "    print(f'The model predict the image is {prediction}, pribability is {probability*100}%')"
   ]
  },
  {
   "cell_type": "markdown",
   "id": "4c291355-7012-4bb0-936f-b2d4f383a016",
   "metadata": {},
   "source": [
    "***Alchemy***"
   ]
  },
  {
   "cell_type": "code",
   "execution_count": 13,
   "id": "b160440b-89d4-4a2d-b47c-17da903e6eb9",
   "metadata": {},
   "outputs": [
    {
     "data": {
      "text/plain": [
       "Classifier(\n",
       "  (fc1): Linear(in_features=784, out_features=256, bias=True)\n",
       "  (fc2): Linear(in_features=256, out_features=128, bias=True)\n",
       "  (fc3): Linear(in_features=128, out_features=64, bias=True)\n",
       "  (fc4): Linear(in_features=64, out_features=10, bias=True)\n",
       "  (dropout): Dropout(p=0.2, inplace=False)\n",
       ")"
      ]
     },
     "execution_count": 13,
     "metadata": {},
     "output_type": "execute_result"
    }
   ],
   "source": [
    "# Instance the 4 layer - Classifier\n",
    "model = Classifier()\n",
    "model.to(device) # Save the model on gpu device"
   ]
  },
  {
   "cell_type": "code",
   "execution_count": 14,
   "id": "c2166a66-872e-4808-b4d7-a4f1d346fa31",
   "metadata": {},
   "outputs": [],
   "source": [
    "# The loss function is Negative Log Loss function\n",
    "criterion = nn.NLLLoss().to(device)\n",
    "\n",
    "# Optimier\n",
    "optimizer = optim.SGD(model.parameters(), lr = 0.003)\n",
    "\n",
    "# Learning time\n",
    "epochs = 25"
   ]
  },
  {
   "cell_type": "code",
   "execution_count": 15,
   "id": "66a4b0a2-9b73-45c7-95bc-b4233800d0e4",
   "metadata": {},
   "outputs": [
    {
     "name": "stdout",
     "output_type": "stream",
     "text": [
      "Start Training\n",
      "Training epoch 1/25.. Training loss: 2.148.. Test loss: 1.728.. Accuracy: 0.383..\n",
      "Training epoch 2/25.. Training loss: 1.383.. Test loss: 1.012.. Accuracy: 0.652..\n",
      "Training epoch 3/25.. Training loss: 1.007.. Test loss: 0.812.. Accuracy: 0.713..\n",
      "Training epoch 4/25.. Training loss: 0.852.. Test loss: 0.711.. Accuracy: 0.736..\n",
      "Training epoch 5/25.. Training loss: 0.768.. Test loss: 0.660.. Accuracy: 0.744..\n",
      "Training epoch 6/25.. Training loss: 0.716.. Test loss: 0.630.. Accuracy: 0.754..\n",
      "Training epoch 7/25.. Training loss: 0.682.. Test loss: 0.604.. Accuracy: 0.766..\n",
      "Training epoch 8/25.. Training loss: 0.649.. Test loss: 0.580.. Accuracy: 0.780..\n",
      "Training epoch 9/25.. Training loss: 0.626.. Test loss: 0.568.. Accuracy: 0.788..\n",
      "Training epoch 10/25.. Training loss: 0.603.. Test loss: 0.545.. Accuracy: 0.796..\n",
      "Training epoch 11/25.. Training loss: 0.581.. Test loss: 0.530.. Accuracy: 0.805..\n",
      "Training epoch 12/25.. Training loss: 0.565.. Test loss: 0.513.. Accuracy: 0.811..\n",
      "Training epoch 13/25.. Training loss: 0.547.. Test loss: 0.505.. Accuracy: 0.816..\n",
      "Training epoch 14/25.. Training loss: 0.537.. Test loss: 0.493.. Accuracy: 0.817..\n",
      "Training epoch 15/25.. Training loss: 0.522.. Test loss: 0.486.. Accuracy: 0.819..\n",
      "Training epoch 16/25.. Training loss: 0.514.. Test loss: 0.476.. Accuracy: 0.826..\n",
      "Training epoch 17/25.. Training loss: 0.504.. Test loss: 0.468.. Accuracy: 0.827..\n",
      "Training epoch 18/25.. Training loss: 0.493.. Test loss: 0.463.. Accuracy: 0.829..\n",
      "Training epoch 19/25.. Training loss: 0.486.. Test loss: 0.459.. Accuracy: 0.832..\n",
      "Training epoch 20/25.. Training loss: 0.479.. Test loss: 0.453.. Accuracy: 0.834..\n",
      "Training epoch 21/25.. Training loss: 0.475.. Test loss: 0.447.. Accuracy: 0.833..\n",
      "Training epoch 22/25.. Training loss: 0.466.. Test loss: 0.442.. Accuracy: 0.838..\n",
      "Training epoch 23/25.. Training loss: 0.459.. Test loss: 0.438.. Accuracy: 0.839..\n",
      "Training epoch 24/25.. Training loss: 0.454.. Test loss: 0.435.. Accuracy: 0.842..\n",
      "Training epoch 25/25.. Training loss: 0.450.. Test loss: 0.430.. Accuracy: 0.843..\n"
     ]
    }
   ],
   "source": [
    "train_losses, test_losses, acc = train_mnist(trainloader, testloader, criterion, optimizer, epochs)"
   ]
  },
  {
   "cell_type": "code",
   "execution_count": 17,
   "id": "b1b37d02-fb58-48ee-8532-313f893b5285",
   "metadata": {},
   "outputs": [
    {
     "data": {
      "image/png": "[encoded data removed]",
      "text/plain": [
       "<Figure size 432x288 with 1 Axes>"
      ]
     },
     "metadata": {
      "needs_background": "light"
     },
     "output_type": "display_data"
    }
   ],
   "source": [
    "vis_loss(train_losses, test_losses, acc)"
   ]
  },
  {
   "cell_type": "code",
   "execution_count": 19,
   "id": "3306a169-d0f2-4771-98d2-439d74d5eafd",
   "metadata": {},
   "outputs": [
    {
     "name": "stdout",
     "output_type": "stream",
     "text": [
      "The model predict the image is Ankle Boot, pribability is 99.3361234664917%\n"
     ]
    },
    {
     "data": {
      "image/png": "[encoded data removed]",
      "text/plain": [
       "<Figure size 432x288 with 1 Axes>"
      ]
     },
     "metadata": {
      "needs_background": "light"
     },
     "output_type": "display_data"
    }
   ],
   "source": [
    "img_test(model, testloader)"
   ]
  },
  {
   "cell_type": "code",
   "execution_count": null,
   "id": "2a39a101-8e06-4772-8cd2-678a88464907",
   "metadata": {},
   "outputs": [],
   "source": []
  }
 ],
 "metadata": {
  "kernelspec": {
   "display_name": "Python 3 (ipykernel)",
   "language": "python",
   "name": "python3"
  },
  "language_info": {
   "codemirror_mode": {
    "name": "ipython",
    "version": 3
   },
   "file_extension": ".py",
   "mimetype": "text/x-python",
   "name": "python",
   "nbconvert_exporter": "python",
   "pygments_lexer": "ipython3",
   "version": "3.10.5"
  }
 },
 "nbformat": 4,
 "nbformat_minor": 5
}
